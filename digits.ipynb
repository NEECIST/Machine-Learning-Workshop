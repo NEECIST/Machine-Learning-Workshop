{
 "cells": [
  {
   "cell_type": "code",
   "execution_count": 56,
   "metadata": {},
   "outputs": [],
   "source": [
    "import keras\n",
    "from keras.datasets import mnist\n",
    "from matplotlib import pyplot as plt\n",
    "from sklearn.model_selection import train_test_split\n",
    "from keras.models import Sequential\n",
    "from keras.layers import Dense, Dropout, Flatten, Conv2D, MaxPooling2D\n"
   ]
  },
  {
   "cell_type": "code",
   "execution_count": 57,
   "metadata": {},
   "outputs": [
    {
     "data": {
      "text/plain": [
       "[]"
      ]
     },
     "execution_count": 57,
     "metadata": {},
     "output_type": "execute_result"
    }
   ],
   "source": [
    "from keras import backend as K\n",
    "K._get_available_gpus()"
   ]
  },
  {
   "cell_type": "code",
   "execution_count": 58,
   "metadata": {},
   "outputs": [
    {
     "name": "stdout",
     "output_type": "stream",
     "text": [
      "We have 48000 images of size 28x28 for training!\n",
      "We have 12000 images of size 28x28 for validation!\n",
      "We have 10000 images of size 28x28 for testing!\n"
     ]
    }
   ],
   "source": [
    "# Get the data, train and test sets\n",
    "(x_train, y_train), (x_test, y_test) = mnist.load_data()\n",
    "\n",
    "# Use 20% of the train data as validation\n",
    "x_train, x_validation, y_train, y_validation = train_test_split(\n",
    "    x_train, y_train, test_size=0.2, random_state=69\n",
    ")\n",
    "\n",
    "print(f\"We have {x_train.shape[0]} images of size {x_train.shape[1]}x{x_train.shape[2]} for training!\")\n",
    "\n",
    "print(f\"We have {x_validation.shape[0]} images of size {x_validation.shape[1]}x{x_validation.shape[2]} for validation!\")\n",
    "\n",
    "print(f\"We have {x_test.shape[0]} images of size {x_test.shape[1]}x{x_test.shape[2]} for testing!\")"
   ]
  },
  {
   "cell_type": "code",
   "execution_count": 59,
   "metadata": {},
   "outputs": [
    {
     "name": "stdout",
     "output_type": "stream",
     "text": [
      "x_train shape: (48000, 28, 28, 1)\n"
     ]
    }
   ],
   "source": [
    "#Reshape\n",
    "input_shape = (28, 28, 1)\n",
    "\n",
    "x_train = x_train.reshape(x_train.shape[0], 28, 28, 1)\n",
    "x_test = x_test.reshape(x_test.shape[0], 28, 28, 1)\n",
    "x_validation = x_validation.reshape(x_validation.shape[0], 28, 28, 1)\n",
    "\n",
    "#PARA FICAR COM ONE HOT ENCONDING, PODEMOS NAO USAR E MUDAMOS SO A LOSS FUNCTION\n",
    "# convert class vectors to binary class matrices\n",
    "y_train = keras.utils.to_categorical(y_train, 10)\n",
    "y_validation = keras.utils.to_categorical(y_validation, 10)\n",
    "y_test = keras.utils.to_categorical(y_test, 10)\n",
    "\n",
    "x_train = x_train.astype('float32')\n",
    "x_validation = x_validation.astype('float32')\n",
    "x_test = x_test.astype('float32')\n",
    "\n",
    "#NORMALIZAR\n",
    "x_train /= 255\n",
    "x_validation /= 255\n",
    "x_test /= 255\n",
    "\n",
    "print('x_train shape:', x_train.shape)"
   ]
  },
  {
   "cell_type": "code",
   "execution_count": 60,
   "metadata": {},
   "outputs": [
    {
     "data": {
      "image/png": "[encoded data removed]",
      "text/plain": [
       "<Figure size 640x480 with 1 Axes>"
      ]
     },
     "metadata": {},
     "output_type": "display_data"
    }
   ],
   "source": [
    "plt.imshow(x_train[1430], cmap='gray')\n",
    "plt.show()"
   ]
  },
  {
   "cell_type": "code",
   "execution_count": 41,
   "metadata": {},
   "outputs": [],
   "source": [
    "batch_size = 128\n",
    "num_classes = 10\n",
    "epochs = 10"
   ]
  },
  {
   "cell_type": "code",
   "execution_count": 42,
   "metadata": {},
   "outputs": [
    {
     "name": "stdout",
     "output_type": "stream",
     "text": [
      "Model: \"sequential_1\"\n",
      "_________________________________________________________________\n",
      " Layer (type)                Output Shape              Param #   \n",
      "=================================================================\n",
      " conv2d_2 (Conv2D)           (None, 24, 24, 32)        832       \n",
      "                                                                 \n",
      " max_pooling2d_2 (MaxPooling  (None, 12, 12, 32)       0         \n",
      " 2D)                                                             \n",
      "                                                                 \n",
      " conv2d_3 (Conv2D)           (None, 10, 10, 64)        18496     \n",
      "                                                                 \n",
      " max_pooling2d_3 (MaxPooling  (None, 5, 5, 64)         0         \n",
      " 2D)                                                             \n",
      "                                                                 \n",
      " flatten_1 (Flatten)         (None, 1600)              0         \n",
      "                                                                 \n",
      " dense_3 (Dense)             (None, 128)               204928    \n",
      "                                                                 \n",
      " dropout_2 (Dropout)         (None, 128)               0         \n",
      "                                                                 \n",
      " dense_4 (Dense)             (None, 64)                8256      \n",
      "                                                                 \n",
      " dropout_3 (Dropout)         (None, 64)                0         \n",
      "                                                                 \n",
      " dense_5 (Dense)             (None, 10)                650       \n",
      "                                                                 \n",
      "=================================================================\n",
      "Total params: 233,162\n",
      "Trainable params: 233,162\n",
      "Non-trainable params: 0\n",
      "_________________________________________________________________\n"
     ]
    }
   ],
   "source": [
    "model = Sequential()\n",
    "model.add(Conv2D(32, kernel_size=(5, 5),activation='relu',input_shape=input_shape))\n",
    "model.add(MaxPooling2D(pool_size=(2, 2)))\n",
    "model.add(Conv2D(64, (3, 3), activation='relu'))\n",
    "model.add(MaxPooling2D(pool_size=(2, 2)))\n",
    "model.add(Flatten())\n",
    "model.add(Dense(128, activation='relu'))\n",
    "model.add(Dropout(0.3))\n",
    "model.add(Dense(64, activation='relu'))\n",
    "model.add(Dropout(0.5))\n",
    "model.add(Dense(num_classes, activation='softmax'))\n",
    "\n",
    "model.summary()"
   ]
  },
  {
   "cell_type": "code",
   "execution_count": 43,
   "metadata": {},
   "outputs": [],
   "source": [
    "model.compile(loss=keras.losses.categorical_crossentropy,optimizer=keras.optimizers.Adadelta(),metrics=['accuracy'])"
   ]
  },
  {
   "cell_type": "code",
   "execution_count": 51,
   "metadata": {},
   "outputs": [
    {
     "name": "stdout",
     "output_type": "stream",
     "text": [
      "Epoch 1/10\n",
      "375/375 [==============================] - 17s 45ms/step - loss: 2.2179 - accuracy: 0.1978 - val_loss: 2.1932 - val_accuracy: 0.2868\n",
      "Epoch 2/10\n",
      "375/375 [==============================] - 17s 46ms/step - loss: 2.2063 - accuracy: 0.2069 - val_loss: 2.1790 - val_accuracy: 0.2903\n",
      "Epoch 3/10\n",
      "375/375 [==============================] - 15s 41ms/step - loss: 2.1942 - accuracy: 0.2080 - val_loss: 2.1639 - val_accuracy: 0.2942\n",
      "Epoch 4/10\n",
      "375/375 [==============================] - 18s 47ms/step - loss: 2.1813 - accuracy: 0.2182 - val_loss: 2.1478 - val_accuracy: 0.3000\n",
      "Epoch 5/10\n",
      "375/375 [==============================] - 17s 46ms/step - loss: 2.1675 - accuracy: 0.2247 - val_loss: 2.1306 - val_accuracy: 0.3079\n",
      "Epoch 6/10\n",
      "375/375 [==============================] - 15s 41ms/step - loss: 2.1533 - accuracy: 0.2304 - val_loss: 2.1124 - val_accuracy: 0.3176\n",
      "Epoch 7/10\n",
      "375/375 [==============================] - 15s 41ms/step - loss: 2.1384 - accuracy: 0.2379 - val_loss: 2.0934 - val_accuracy: 0.3385\n",
      "Epoch 8/10\n",
      "375/375 [==============================] - 16s 42ms/step - loss: 2.1224 - accuracy: 0.2435 - val_loss: 2.0733 - val_accuracy: 0.3627\n",
      "Epoch 9/10\n",
      "375/375 [==============================] - 17s 45ms/step - loss: 2.1078 - accuracy: 0.2530 - val_loss: 2.0525 - val_accuracy: 0.3868\n",
      "Epoch 10/10\n",
      "375/375 [==============================] - 16s 43ms/step - loss: 2.0910 - accuracy: 0.2604 - val_loss: 2.0308 - val_accuracy: 0.4108\n"
     ]
    }
   ],
   "source": [
    "#No meu pc (andre) demora tipo 2m30s\n",
    "history = model.fit(x_train, y_train,batch_size=batch_size,epochs=epochs,verbose=1,validation_data=(x_validation, y_validation))"
   ]
  },
  {
   "cell_type": "code",
   "execution_count": 52,
   "metadata": {},
   "outputs": [
    {
     "name": "stdout",
     "output_type": "stream",
     "text": [
      "Validation: acc is 41.083332896232605% and loss is 2.0308308601379395\n"
     ]
    },
    {
     "data": {
      "image/png": "[encoded data removed]",
      "text/plain": [
       "<Figure size 1500x500 with 1 Axes>"
      ]
     },
     "metadata": {},
     "output_type": "display_data"
    }
   ],
   "source": [
    "plt.figure(figsize=(15, 5))\n",
    "\n",
    "plt.subplot(1, 2, 1)\n",
    "plt.plot(history.history[\"accuracy\"], label=\"Train accuracy\")\n",
    "plt.plot(history.history[\"loss\"], label=\"Train loss\")\n",
    "plt.plot(history.history[\"val_accuracy\"], label=\"Validation accuracy\")\n",
    "plt.plot(history.history[\"val_loss\"], label=\"Validation loss\")\n",
    "plt.xlabel(\"Epoch\")\n",
    "plt.legend(loc=\"best\")\n",
    "\n",
    "validation_loss, validation_acc = model.evaluate(x_validation, y_validation, verbose=False)\n",
    "\n",
    "print(f\"Validation: acc is {validation_acc*100}% and loss is {validation_loss}\")"
   ]
  },
  {
   "cell_type": "code",
   "execution_count": 53,
   "metadata": {},
   "outputs": [
    {
     "name": "stdout",
     "output_type": "stream",
     "text": [
      "Test loss: 2.022592306137085\n",
      "Test accuracy: 0.43290001153945923\n"
     ]
    }
   ],
   "source": [
    "score = model.evaluate(x_test, y_test, verbose=0)\n",
    "print('Test loss:', score[0])\n",
    "print('Test accuracy:', score[1])"
   ]
  }
 ],
 "metadata": {
  "kernelspec": {
   "display_name": "Python 3.10.7 ('env': venv)",
   "language": "python",
   "name": "python3"
  },
  "language_info": {
   "codemirror_mode": {
    "name": "ipython",
    "version": 3
   },
   "file_extension": ".py",
   "mimetype": "text/x-python",
   "name": "python",
   "nbconvert_exporter": "python",
   "pygments_lexer": "ipython3",
   "version": "3.10.7"
  },
  "orig_nbformat": 4,
  "vscode": {
   "interpreter": {
    "hash": "01368b1a57a6282c4d47b73cd2548e5cc6d903a5e302381f585ba900d94d43ad"
   }
  }
 },
 "nbformat": 4,
 "nbformat_minor": 2
}
