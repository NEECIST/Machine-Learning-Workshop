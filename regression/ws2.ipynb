{
 "cells": [
  {
   "cell_type": "code",
   "execution_count": 656,
   "metadata": {},
   "outputs": [],
   "source": [
    "import numpy as np\n",
    "from sklearn.linear_model import LinearRegression\n",
    "from sklearn.linear_model import LassoCV, Lasso, Ridge, RidgeCV, ElasticNet\n",
    "from sklearn.model_selection import train_test_split\n",
    "from sklearn.metrics import mean_squared_error as MSE\n",
    "from sklearn.neural_network import MLPRegressor\n",
    "import matplotlib.pyplot as plt\n",
    "\n",
    "import numpy as np # linear algebra\n",
    "import pandas as pd # data processing, CSV file I/O (e.g. pd.read_csv)\n",
    "\n",
    "from sklearn.preprocessing import LabelEncoder, StandardScaler\n",
    "\n",
    "import seaborn as sn #visual representation\n",
    "\n",
    "from sklearn.preprocessing import StandardScaler, MinMaxScaler ## standrard scalig \n",
    "from sklearn.compose import ColumnTransformer\n",
    "\n",
    "from sklearn import metrics\n",
    "\n",
    "from sklearn.model_selection import train_test_split\n",
    "\n"
   ]
  },
  {
   "cell_type": "code",
   "execution_count": 657,
   "metadata": {},
   "outputs": [
    {
     "data": {
      "text/html": [
       "<div>\n",
       "<style scoped>\n",
       "    .dataframe tbody tr th:only-of-type {\n",
       "        vertical-align: middle;\n",
       "    }\n",
       "\n",
       "    .dataframe tbody tr th {\n",
       "        vertical-align: top;\n",
       "    }\n",
       "\n",
       "    .dataframe thead th {\n",
       "        text-align: right;\n",
       "    }\n",
       "</style>\n",
       "<table border=\"1\" class=\"dataframe\">\n",
       "  <thead>\n",
       "    <tr style=\"text-align: right;\">\n",
       "      <th></th>\n",
       "      <th>Id</th>\n",
       "      <th>Condition</th>\n",
       "      <th>PropertyType</th>\n",
       "      <th>PropertySubType</th>\n",
       "      <th>Bedrooms</th>\n",
       "      <th>Bathrooms</th>\n",
       "      <th>AreaNet</th>\n",
       "      <th>AreaGross</th>\n",
       "      <th>Parking</th>\n",
       "      <th>Latitude</th>\n",
       "      <th>Longitude</th>\n",
       "      <th>Country</th>\n",
       "      <th>District</th>\n",
       "      <th>Municipality</th>\n",
       "      <th>Parish</th>\n",
       "      <th>Price M2</th>\n",
       "      <th>Price</th>\n",
       "    </tr>\n",
       "  </thead>\n",
       "  <tbody>\n",
       "    <tr>\n",
       "      <th>0</th>\n",
       "      <td>101</td>\n",
       "      <td>Used</td>\n",
       "      <td>Homes</td>\n",
       "      <td>Apartment</td>\n",
       "      <td>3</td>\n",
       "      <td>1</td>\n",
       "      <td>76</td>\n",
       "      <td>152</td>\n",
       "      <td>0</td>\n",
       "      <td>38.7792</td>\n",
       "      <td>-9.1186</td>\n",
       "      <td>Portugal</td>\n",
       "      <td>Lisboa</td>\n",
       "      <td>Lisboa</td>\n",
       "      <td>Olivais</td>\n",
       "      <td>2463</td>\n",
       "      <td>198000</td>\n",
       "    </tr>\n",
       "    <tr>\n",
       "      <th>1</th>\n",
       "      <td>102</td>\n",
       "      <td>Used</td>\n",
       "      <td>Homes</td>\n",
       "      <td>Duplex</td>\n",
       "      <td>5</td>\n",
       "      <td>3</td>\n",
       "      <td>190</td>\n",
       "      <td>380</td>\n",
       "      <td>0</td>\n",
       "      <td>38.7056</td>\n",
       "      <td>-9.1784</td>\n",
       "      <td>Portugal</td>\n",
       "      <td>Lisboa</td>\n",
       "      <td>Lisboa</td>\n",
       "      <td>Alcantara</td>\n",
       "      <td>3125</td>\n",
       "      <td>1270000</td>\n",
       "    </tr>\n",
       "    <tr>\n",
       "      <th>2</th>\n",
       "      <td>103</td>\n",
       "      <td>Used</td>\n",
       "      <td>Homes</td>\n",
       "      <td>Apartment</td>\n",
       "      <td>1</td>\n",
       "      <td>1</td>\n",
       "      <td>26</td>\n",
       "      <td>52</td>\n",
       "      <td>0</td>\n",
       "      <td>38.7058</td>\n",
       "      <td>-9.1639</td>\n",
       "      <td>Portugal</td>\n",
       "      <td>Lisboa</td>\n",
       "      <td>Lisboa</td>\n",
       "      <td>Estrela</td>\n",
       "      <td>4005</td>\n",
       "      <td>140000</td>\n",
       "    </tr>\n",
       "    <tr>\n",
       "      <th>3</th>\n",
       "      <td>104</td>\n",
       "      <td>Used</td>\n",
       "      <td>Homes</td>\n",
       "      <td>Apartment</td>\n",
       "      <td>5</td>\n",
       "      <td>4</td>\n",
       "      <td>185</td>\n",
       "      <td>370</td>\n",
       "      <td>0</td>\n",
       "      <td>38.7466</td>\n",
       "      <td>-9.1640</td>\n",
       "      <td>Portugal</td>\n",
       "      <td>Lisboa</td>\n",
       "      <td>Lisboa</td>\n",
       "      <td>Sao Domingos de Benfica</td>\n",
       "      <td>3412</td>\n",
       "      <td>995000</td>\n",
       "    </tr>\n",
       "    <tr>\n",
       "      <th>4</th>\n",
       "      <td>105</td>\n",
       "      <td>Used</td>\n",
       "      <td>Homes</td>\n",
       "      <td>Apartment</td>\n",
       "      <td>7</td>\n",
       "      <td>1</td>\n",
       "      <td>150</td>\n",
       "      <td>300</td>\n",
       "      <td>0</td>\n",
       "      <td>38.7323</td>\n",
       "      <td>-9.1287</td>\n",
       "      <td>Portugal</td>\n",
       "      <td>Lisboa</td>\n",
       "      <td>Lisboa</td>\n",
       "      <td>Arroios</td>\n",
       "      <td>3277</td>\n",
       "      <td>570000</td>\n",
       "    </tr>\n",
       "  </tbody>\n",
       "</table>\n",
       "</div>"
      ],
      "text/plain": [
       "    Id Condition PropertyType PropertySubType  Bedrooms  Bathrooms  AreaNet  \\\n",
       "0  101      Used        Homes       Apartment         3          1       76   \n",
       "1  102      Used        Homes          Duplex         5          3      190   \n",
       "2  103      Used        Homes       Apartment         1          1       26   \n",
       "3  104      Used        Homes       Apartment         5          4      185   \n",
       "4  105      Used        Homes       Apartment         7          1      150   \n",
       "\n",
       "   AreaGross  Parking  Latitude  Longitude   Country District Municipality  \\\n",
       "0        152        0   38.7792    -9.1186  Portugal   Lisboa       Lisboa   \n",
       "1        380        0   38.7056    -9.1784  Portugal   Lisboa       Lisboa   \n",
       "2         52        0   38.7058    -9.1639  Portugal   Lisboa       Lisboa   \n",
       "3        370        0   38.7466    -9.1640  Portugal   Lisboa       Lisboa   \n",
       "4        300        0   38.7323    -9.1287  Portugal   Lisboa       Lisboa   \n",
       "\n",
       "                    Parish  Price M2    Price  \n",
       "0                  Olivais      2463   198000  \n",
       "1                Alcantara      3125  1270000  \n",
       "2                  Estrela      4005   140000  \n",
       "3  Sao Domingos de Benfica      3412   995000  \n",
       "4                  Arroios      3277   570000  "
      ]
     },
     "execution_count": 657,
     "metadata": {},
     "output_type": "execute_result"
    }
   ],
   "source": [
    "# Import the file with pandas\n",
    "df = pd.read_csv('lisbon-houses.csv.xls') \n",
    "\n",
    "# print the first lines\n",
    "df.head(5)\n"
   ]
  },
  {
   "cell_type": "code",
   "execution_count": 658,
   "metadata": {},
   "outputs": [],
   "source": [
    "df = df.drop(['Country', 'District','Municipality'], axis=1)\n",
    "df = df.drop(['Id'], axis=1)"
   ]
  },
  {
   "cell_type": "code",
   "execution_count": 659,
   "metadata": {},
   "outputs": [
    {
     "data": {
      "text/plain": [
       "<seaborn.axisgrid.FacetGrid at 0x7fb5c9afc310>"
      ]
     },
     "execution_count": 659,
     "metadata": {},
     "output_type": "execute_result"
    },
    {
     "data": {
      "image/png": "[encoded data removed]",
      "text/plain": [
       "<Figure size 360x360 with 1 Axes>"
      ]
     },
     "metadata": {
      "needs_background": "light"
     },
     "output_type": "display_data"
    }
   ],
   "source": [
    "sn.catplot(x='PropertyType', y='Price',  data=df,jitter='0.25')"
   ]
  },
  {
   "cell_type": "code",
   "execution_count": 660,
   "metadata": {},
   "outputs": [
    {
     "data": {
      "text/plain": [
       "<seaborn.axisgrid.FacetGrid at 0x7fb5c908f160>"
      ]
     },
     "execution_count": 660,
     "metadata": {},
     "output_type": "execute_result"
    },
    {
     "data": {
      "image/png": "[encoded data removed]",
      "text/plain": [
       "<Figure size 360x360 with 1 Axes>"
      ]
     },
     "metadata": {
      "needs_background": "light"
     },
     "output_type": "display_data"
    }
   ],
   "source": [
    "sn.catplot(x='PropertySubType', y='Price',  data=df,jitter='0.25')"
   ]
  },
  {
   "cell_type": "code",
   "execution_count": 661,
   "metadata": {},
   "outputs": [
    {
     "data": {
      "text/plain": [
       "(246, 13)"
      ]
     },
     "execution_count": 661,
     "metadata": {},
     "output_type": "execute_result"
    }
   ],
   "source": [
    "df.shape"
   ]
  },
  {
   "cell_type": "code",
   "execution_count": 662,
   "metadata": {},
   "outputs": [],
   "source": [
    "df = df[df.PropertyType == 'Homes']\n",
    "df = df.drop(['PropertyType'], axis=1)\n",
    "\n",
    "df = df[df.PropertySubType == 'Apartment']\n",
    "df = df.drop(['PropertySubType'], axis=1)"
   ]
  },
  {
   "cell_type": "code",
   "execution_count": 663,
   "metadata": {},
   "outputs": [
    {
     "data": {
      "text/plain": [
       "<seaborn.axisgrid.FacetGrid at 0x7fb5cac689a0>"
      ]
     },
     "execution_count": 663,
     "metadata": {},
     "output_type": "execute_result"
    },
    {
     "data": {
      "image/png": "[encoded data removed]",
      "text/plain": [
       "<Figure size 360x360 with 1 Axes>"
      ]
     },
     "metadata": {
      "needs_background": "light"
     },
     "output_type": "display_data"
    },
    {
     "data": {
      "image/png": "[encoded data removed]",
      "text/plain": [
       "<Figure size 360x360 with 1 Axes>"
      ]
     },
     "metadata": {
      "needs_background": "light"
     },
     "output_type": "display_data"
    }
   ],
   "source": [
    "sn.catplot(x='Longitude', y='Price',  data=df,jitter='0.25')\n",
    "sn.catplot(x='Latitude', y='Price',  data=df,jitter='0.25')"
   ]
  },
  {
   "cell_type": "code",
   "execution_count": 664,
   "metadata": {},
   "outputs": [],
   "source": [
    "df = df.drop(['Longitude', 'Latitude'], axis=1)"
   ]
  },
  {
   "cell_type": "code",
   "execution_count": 665,
   "metadata": {},
   "outputs": [
    {
     "data": {
      "text/plain": [
       "<seaborn.axisgrid.FacetGrid at 0x7fb5caee73a0>"
      ]
     },
     "execution_count": 665,
     "metadata": {},
     "output_type": "execute_result"
    },
    {
     "data": {
      "image/png": "[encoded data removed]",
      "text/plain": [
       "<Figure size 360x360 with 1 Axes>"
      ]
     },
     "metadata": {
      "needs_background": "light"
     },
     "output_type": "display_data"
    }
   ],
   "source": [
    "sn.catplot(x='Parking', y='Price',  data=df,jitter='0.25')"
   ]
  },
  {
   "cell_type": "code",
   "execution_count": 666,
   "metadata": {},
   "outputs": [],
   "source": [
    "df['WithParking'] = np.where(df['Parking'] == '0', '0', '1')\n",
    "df = df.drop(['Parking'], axis=1)"
   ]
  },
  {
   "cell_type": "code",
   "execution_count": 667,
   "metadata": {},
   "outputs": [
    {
     "data": {
      "text/plain": [
       "(226, 9)"
      ]
     },
     "execution_count": 667,
     "metadata": {},
     "output_type": "execute_result"
    }
   ],
   "source": [
    "df.shape"
   ]
  },
  {
   "cell_type": "code",
   "execution_count": 668,
   "metadata": {},
   "outputs": [],
   "source": [
    "le=LabelEncoder()\n",
    "df['Condition'] = le.fit_transform(df['Condition'])\n",
    "df['Parish'] = le.fit_transform(df['Parish'])\n"
   ]
  },
  {
   "cell_type": "code",
   "execution_count": 669,
   "metadata": {},
   "outputs": [
    {
     "data": {
      "text/html": [
       "<div>\n",
       "<style scoped>\n",
       "    .dataframe tbody tr th:only-of-type {\n",
       "        vertical-align: middle;\n",
       "    }\n",
       "\n",
       "    .dataframe tbody tr th {\n",
       "        vertical-align: top;\n",
       "    }\n",
       "\n",
       "    .dataframe thead th {\n",
       "        text-align: right;\n",
       "    }\n",
       "</style>\n",
       "<table border=\"1\" class=\"dataframe\">\n",
       "  <thead>\n",
       "    <tr style=\"text-align: right;\">\n",
       "      <th></th>\n",
       "      <th>Condition</th>\n",
       "      <th>Bedrooms</th>\n",
       "      <th>Bathrooms</th>\n",
       "      <th>AreaNet</th>\n",
       "      <th>AreaGross</th>\n",
       "      <th>Parish</th>\n",
       "      <th>Price M2</th>\n",
       "      <th>Price</th>\n",
       "      <th>WithParking</th>\n",
       "    </tr>\n",
       "  </thead>\n",
       "  <tbody>\n",
       "    <tr>\n",
       "      <th>0</th>\n",
       "      <td>3</td>\n",
       "      <td>3</td>\n",
       "      <td>1</td>\n",
       "      <td>76</td>\n",
       "      <td>152</td>\n",
       "      <td>16</td>\n",
       "      <td>2463</td>\n",
       "      <td>198000</td>\n",
       "      <td>1</td>\n",
       "    </tr>\n",
       "    <tr>\n",
       "      <th>2</th>\n",
       "      <td>3</td>\n",
       "      <td>1</td>\n",
       "      <td>1</td>\n",
       "      <td>26</td>\n",
       "      <td>52</td>\n",
       "      <td>12</td>\n",
       "      <td>4005</td>\n",
       "      <td>140000</td>\n",
       "      <td>1</td>\n",
       "    </tr>\n",
       "    <tr>\n",
       "      <th>3</th>\n",
       "      <td>3</td>\n",
       "      <td>5</td>\n",
       "      <td>4</td>\n",
       "      <td>185</td>\n",
       "      <td>370</td>\n",
       "      <td>22</td>\n",
       "      <td>3412</td>\n",
       "      <td>995000</td>\n",
       "      <td>1</td>\n",
       "    </tr>\n",
       "    <tr>\n",
       "      <th>4</th>\n",
       "      <td>3</td>\n",
       "      <td>7</td>\n",
       "      <td>1</td>\n",
       "      <td>150</td>\n",
       "      <td>300</td>\n",
       "      <td>4</td>\n",
       "      <td>3277</td>\n",
       "      <td>570000</td>\n",
       "      <td>1</td>\n",
       "    </tr>\n",
       "    <tr>\n",
       "      <th>5</th>\n",
       "      <td>3</td>\n",
       "      <td>3</td>\n",
       "      <td>2</td>\n",
       "      <td>95</td>\n",
       "      <td>190</td>\n",
       "      <td>7</td>\n",
       "      <td>3542</td>\n",
       "      <td>425000</td>\n",
       "      <td>1</td>\n",
       "    </tr>\n",
       "  </tbody>\n",
       "</table>\n",
       "</div>"
      ],
      "text/plain": [
       "   Condition  Bedrooms  Bathrooms  AreaNet  AreaGross  Parish  Price M2  \\\n",
       "0          3         3          1       76        152      16      2463   \n",
       "2          3         1          1       26         52      12      4005   \n",
       "3          3         5          4      185        370      22      3412   \n",
       "4          3         7          1      150        300       4      3277   \n",
       "5          3         3          2       95        190       7      3542   \n",
       "\n",
       "    Price WithParking  \n",
       "0  198000           1  \n",
       "2  140000           1  \n",
       "3  995000           1  \n",
       "4  570000           1  \n",
       "5  425000           1  "
      ]
     },
     "execution_count": 669,
     "metadata": {},
     "output_type": "execute_result"
    }
   ],
   "source": [
    "df.head()"
   ]
  },
  {
   "cell_type": "code",
   "execution_count": 670,
   "metadata": {},
   "outputs": [],
   "source": [
    "X_train, X_test = train_test_split(df, test_size=0.2,random_state=1)\n"
   ]
  },
  {
   "cell_type": "code",
   "execution_count": 671,
   "metadata": {},
   "outputs": [],
   "source": [
    "X_train_scaled = X_train.copy()\n",
    "X_test_scaled = X_test.copy()"
   ]
  },
  {
   "cell_type": "code",
   "execution_count": 672,
   "metadata": {},
   "outputs": [
    {
     "data": {
      "text/html": [
       "<div>\n",
       "<style scoped>\n",
       "    .dataframe tbody tr th:only-of-type {\n",
       "        vertical-align: middle;\n",
       "    }\n",
       "\n",
       "    .dataframe tbody tr th {\n",
       "        vertical-align: top;\n",
       "    }\n",
       "\n",
       "    .dataframe thead th {\n",
       "        text-align: right;\n",
       "    }\n",
       "</style>\n",
       "<table border=\"1\" class=\"dataframe\">\n",
       "  <thead>\n",
       "    <tr style=\"text-align: right;\">\n",
       "      <th></th>\n",
       "      <th>Condition</th>\n",
       "      <th>Bedrooms</th>\n",
       "      <th>Bathrooms</th>\n",
       "      <th>AreaNet</th>\n",
       "      <th>AreaGross</th>\n",
       "      <th>Parish</th>\n",
       "      <th>Price M2</th>\n",
       "      <th>Price</th>\n",
       "      <th>WithParking</th>\n",
       "    </tr>\n",
       "  </thead>\n",
       "  <tbody>\n",
       "    <tr>\n",
       "      <th>40</th>\n",
       "      <td>3</td>\n",
       "      <td>4</td>\n",
       "      <td>2</td>\n",
       "      <td>109</td>\n",
       "      <td>218</td>\n",
       "      <td>13</td>\n",
       "      <td>2927</td>\n",
       "      <td>300000</td>\n",
       "      <td>1</td>\n",
       "    </tr>\n",
       "    <tr>\n",
       "      <th>178</th>\n",
       "      <td>0</td>\n",
       "      <td>3</td>\n",
       "      <td>2</td>\n",
       "      <td>90</td>\n",
       "      <td>180</td>\n",
       "      <td>21</td>\n",
       "      <td>5340</td>\n",
       "      <td>660000</td>\n",
       "      <td>1</td>\n",
       "    </tr>\n",
       "    <tr>\n",
       "      <th>98</th>\n",
       "      <td>2</td>\n",
       "      <td>3</td>\n",
       "      <td>3</td>\n",
       "      <td>161</td>\n",
       "      <td>322</td>\n",
       "      <td>14</td>\n",
       "      <td>2881</td>\n",
       "      <td>805000</td>\n",
       "      <td>1</td>\n",
       "    </tr>\n",
       "    <tr>\n",
       "      <th>67</th>\n",
       "      <td>2</td>\n",
       "      <td>1</td>\n",
       "      <td>1</td>\n",
       "      <td>50</td>\n",
       "      <td>100</td>\n",
       "      <td>21</td>\n",
       "      <td>5340</td>\n",
       "      <td>275000</td>\n",
       "      <td>1</td>\n",
       "    </tr>\n",
       "    <tr>\n",
       "      <th>212</th>\n",
       "      <td>1</td>\n",
       "      <td>2</td>\n",
       "      <td>1</td>\n",
       "      <td>60</td>\n",
       "      <td>120</td>\n",
       "      <td>12</td>\n",
       "      <td>4005</td>\n",
       "      <td>198000</td>\n",
       "      <td>1</td>\n",
       "    </tr>\n",
       "  </tbody>\n",
       "</table>\n",
       "</div>"
      ],
      "text/plain": [
       "     Condition  Bedrooms  Bathrooms  AreaNet  AreaGross  Parish  Price M2  \\\n",
       "40           3         4          2      109        218      13      2927   \n",
       "178          0         3          2       90        180      21      5340   \n",
       "98           2         3          3      161        322      14      2881   \n",
       "67           2         1          1       50        100      21      5340   \n",
       "212          1         2          1       60        120      12      4005   \n",
       "\n",
       "      Price WithParking  \n",
       "40   300000           1  \n",
       "178  660000           1  \n",
       "98   805000           1  \n",
       "67   275000           1  \n",
       "212  198000           1  "
      ]
     },
     "execution_count": 672,
     "metadata": {},
     "output_type": "execute_result"
    }
   ],
   "source": [
    "X_test_scaled.head()"
   ]
  },
  {
   "cell_type": "code",
   "execution_count": 673,
   "metadata": {},
   "outputs": [],
   "source": [
    "y_train = X_train_scaled[\"Price\"].values\n",
    "X_train_scaled = X_train_scaled.drop(\"Price\", axis=1).values\n",
    "\n",
    "y_test = X_test_scaled[\"Price\"].values\n",
    "X_test_scaled = X_test_scaled.drop(\"Price\", axis=1).values"
   ]
  },
  {
   "cell_type": "markdown",
   "metadata": {},
   "source": [
    "# #MODELS"
   ]
  },
  {
   "cell_type": "markdown",
   "metadata": {},
   "source": [
    "Linear Regression"
   ]
  },
  {
   "cell_type": "code",
   "execution_count": 674,
   "metadata": {},
   "outputs": [
    {
     "name": "stdout",
     "output_type": "stream",
     "text": [
      "   Actual      Predicted\n",
      "0  300000  375538.046209\n",
      "1  660000  583177.917749\n",
      "2  805000  816585.734881\n",
      "3  275000  450199.129206\n",
      "4  198000  302305.584101\n",
      "5  275000  266586.392983\n",
      "6  325000  341148.984188\n",
      "7  265000  203937.777055\n",
      "8  450000  364298.313261\n",
      "9  970000  990728.386793\n",
      "R2- SCORE: 0.790263358898014\n",
      "Loss: 0.3179800367729733\n"
     ]
    }
   ],
   "source": [
    "model_lr = LinearRegression()\n",
    "model_lr.fit(X_train_scaled,y_train)\n",
    "y_p=model_lr.predict(X_test_scaled)\n",
    "\n",
    "df2 = pd.DataFrame({'Actual': y_test, 'Predicted': y_p})\n",
    "print(df2.head(10))\n",
    "\n",
    "print('R2- SCORE:', metrics.r2_score(y_test,y_p))\n",
    "print('Loss:', metrics.mean_absolute_percentage_error(y_test,y_p))"
   ]
  },
  {
   "cell_type": "markdown",
   "metadata": {},
   "source": [
    "Lasso"
   ]
  },
  {
   "cell_type": "code",
   "execution_count": 675,
   "metadata": {},
   "outputs": [
    {
     "name": "stdout",
     "output_type": "stream",
     "text": [
      "     Actual     Predicted\n",
      "0    300000  3.755380e+05\n",
      "1    660000  5.831779e+05\n",
      "2    805000  8.165857e+05\n",
      "3    275000  4.501991e+05\n",
      "4    198000  3.023056e+05\n",
      "5    275000  2.665864e+05\n",
      "6    325000  3.411490e+05\n",
      "7    265000  2.039378e+05\n",
      "8    450000  3.642983e+05\n",
      "9    970000  9.907284e+05\n",
      "10   425000  4.676495e+05\n",
      "11   565000  8.179654e+05\n",
      "12   630000  9.570083e+05\n",
      "13  1250000  1.150288e+06\n",
      "14   920000  9.468971e+05\n",
      "R2- SCORE: 0.7902633589137783\n",
      "MAPE: 0.3179800367171697\n"
     ]
    }
   ],
   "source": [
    "model_lasso = Lasso(alpha = 0.0001,tol=0.0001,fit_intercept=True, max_iter=100000)\n",
    "model_lasso.fit(X_train_scaled,y_train)\n",
    "y_pred = model_lasso.predict(X_test_scaled)\n",
    "\n",
    "\n",
    "df2 = pd.DataFrame({'Actual': y_test, 'Predicted': y_pred})\n",
    "print(df2.head(15))\n",
    "\n",
    "from sklearn import metrics\n",
    "print('R2- SCORE:', metrics.r2_score(y_test,y_pred))\n",
    "print('MAPE:', metrics.mean_absolute_percentage_error(y_test,y_pred))"
   ]
  },
  {
   "cell_type": "markdown",
   "metadata": {},
   "source": [
    "Ridge"
   ]
  },
  {
   "cell_type": "code",
   "execution_count": 676,
   "metadata": {},
   "outputs": [
    {
     "name": "stdout",
     "output_type": "stream",
     "text": [
      "   Actual      Predicted\n",
      "0  300000  375538.046209\n",
      "1  660000  583177.917749\n",
      "2  805000  816585.734881\n",
      "3  275000  450199.129206\n",
      "4  198000  302305.584101\n",
      "5  275000  266586.392983\n",
      "6  325000  341148.984188\n",
      "7  265000  203937.777055\n",
      "8  450000  364298.313261\n",
      "9  970000  990728.386793\n",
      "R2- SCORE: 0.790263358898014\n",
      "MAPE: 0.3810893167682135\n"
     ]
    }
   ],
   "source": [
    "model_ridge = Ridge(alpha = 0.0001, normalize = False,fit_intercept=False, tol = 0.001, \\\n",
    "              solver ='sag', random_state = 123)\n",
    "\n",
    "model_ridge.fit(X_train_scaled, y_train)\n",
    "y_pred=model_ridge.predict(X_test_scaled)\n",
    "\n",
    "\n",
    "df2 = pd.DataFrame({'Actual': y_test, 'Predicted': y_p})\n",
    "print(df2.head(10))\n",
    "\n",
    "from sklearn import metrics\n",
    "print('R2- SCORE:', metrics.r2_score(y_test,y_p))\n",
    "print('MAPE:', metrics.mean_absolute_percentage_error(y_test,y_pred))"
   ]
  }
 ],
 "metadata": {
  "interpreter": {
   "hash": "f6461d2c0c7131347eae1119111d6398ee1336848c44a91acfc75f242314b929"
  },
  "kernelspec": {
   "display_name": "Python 3.8.8 ('base')",
   "language": "python",
   "name": "python3"
  },
  "language_info": {
   "codemirror_mode": {
    "name": "ipython",
    "version": 3
   },
   "file_extension": ".py",
   "mimetype": "text/x-python",
   "name": "python",
   "nbconvert_exporter": "python",
   "pygments_lexer": "ipython3",
   "version": "3.8.8"
  },
  "orig_nbformat": 4
 },
 "nbformat": 4,
 "nbformat_minor": 2
}
