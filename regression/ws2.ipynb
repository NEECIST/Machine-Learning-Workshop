{
 "cells": [
  {
   "cell_type": "code",
   "execution_count": 546,
   "metadata": {},
   "outputs": [],
   "source": [
    "import numpy as np\n",
    "from sklearn.linear_model import LinearRegression\n",
    "from sklearn.linear_model import LassoCV, Lasso, Ridge, RidgeCV, ElasticNet\n",
    "from sklearn.model_selection import train_test_split\n",
    "from sklearn.metrics import mean_squared_error as MSE\n",
    "from sklearn.neural_network import MLPRegressor\n",
    "import matplotlib.pyplot as plt\n",
    "\n",
    "import numpy as np # linear algebra\n",
    "import pandas as pd # data processing, CSV file I/O (e.g. pd.read_csv)\n",
    "\n",
    "from sklearn.preprocessing import LabelEncoder, StandardScaler\n",
    "\n",
    "import seaborn as sn #visual representation\n",
    "\n",
    "from sklearn.preprocessing import StandardScaler, MinMaxScaler ## standrard scalig \n",
    "from sklearn.compose import ColumnTransformer\n",
    "\n",
    "from sklearn import metrics\n",
    "\n",
    "from sklearn.model_selection import train_test_split\n",
    "\n"
   ]
  },
  {
   "cell_type": "code",
   "execution_count": 547,
   "metadata": {},
   "outputs": [
    {
     "data": {
      "text/html": [
       "<div>\n",
       "<style scoped>\n",
       "    .dataframe tbody tr th:only-of-type {\n",
       "        vertical-align: middle;\n",
       "    }\n",
       "\n",
       "    .dataframe tbody tr th {\n",
       "        vertical-align: top;\n",
       "    }\n",
       "\n",
       "    .dataframe thead th {\n",
       "        text-align: right;\n",
       "    }\n",
       "</style>\n",
       "<table border=\"1\" class=\"dataframe\">\n",
       "  <thead>\n",
       "    <tr style=\"text-align: right;\">\n",
       "      <th></th>\n",
       "      <th>Id</th>\n",
       "      <th>Condition</th>\n",
       "      <th>PropertyType</th>\n",
       "      <th>PropertySubType</th>\n",
       "      <th>Bedrooms</th>\n",
       "      <th>Bathrooms</th>\n",
       "      <th>AreaNet</th>\n",
       "      <th>AreaGross</th>\n",
       "      <th>Parking</th>\n",
       "      <th>Latitude</th>\n",
       "      <th>Longitude</th>\n",
       "      <th>Country</th>\n",
       "      <th>District</th>\n",
       "      <th>Municipality</th>\n",
       "      <th>Parish</th>\n",
       "      <th>Price M2</th>\n",
       "      <th>Price</th>\n",
       "    </tr>\n",
       "  </thead>\n",
       "  <tbody>\n",
       "    <tr>\n",
       "      <th>0</th>\n",
       "      <td>101</td>\n",
       "      <td>Used</td>\n",
       "      <td>Homes</td>\n",
       "      <td>Apartment</td>\n",
       "      <td>3</td>\n",
       "      <td>1</td>\n",
       "      <td>76</td>\n",
       "      <td>152</td>\n",
       "      <td>0</td>\n",
       "      <td>38.7792</td>\n",
       "      <td>-9.1186</td>\n",
       "      <td>Portugal</td>\n",
       "      <td>Lisboa</td>\n",
       "      <td>Lisboa</td>\n",
       "      <td>Olivais</td>\n",
       "      <td>2463</td>\n",
       "      <td>198000</td>\n",
       "    </tr>\n",
       "    <tr>\n",
       "      <th>1</th>\n",
       "      <td>102</td>\n",
       "      <td>Used</td>\n",
       "      <td>Homes</td>\n",
       "      <td>Duplex</td>\n",
       "      <td>5</td>\n",
       "      <td>3</td>\n",
       "      <td>190</td>\n",
       "      <td>380</td>\n",
       "      <td>0</td>\n",
       "      <td>38.7056</td>\n",
       "      <td>-9.1784</td>\n",
       "      <td>Portugal</td>\n",
       "      <td>Lisboa</td>\n",
       "      <td>Lisboa</td>\n",
       "      <td>Alcantara</td>\n",
       "      <td>3125</td>\n",
       "      <td>1270000</td>\n",
       "    </tr>\n",
       "    <tr>\n",
       "      <th>2</th>\n",
       "      <td>103</td>\n",
       "      <td>Used</td>\n",
       "      <td>Homes</td>\n",
       "      <td>Apartment</td>\n",
       "      <td>1</td>\n",
       "      <td>1</td>\n",
       "      <td>26</td>\n",
       "      <td>52</td>\n",
       "      <td>0</td>\n",
       "      <td>38.7058</td>\n",
       "      <td>-9.1639</td>\n",
       "      <td>Portugal</td>\n",
       "      <td>Lisboa</td>\n",
       "      <td>Lisboa</td>\n",
       "      <td>Estrela</td>\n",
       "      <td>4005</td>\n",
       "      <td>140000</td>\n",
       "    </tr>\n",
       "    <tr>\n",
       "      <th>3</th>\n",
       "      <td>104</td>\n",
       "      <td>Used</td>\n",
       "      <td>Homes</td>\n",
       "      <td>Apartment</td>\n",
       "      <td>5</td>\n",
       "      <td>4</td>\n",
       "      <td>185</td>\n",
       "      <td>370</td>\n",
       "      <td>0</td>\n",
       "      <td>38.7466</td>\n",
       "      <td>-9.1640</td>\n",
       "      <td>Portugal</td>\n",
       "      <td>Lisboa</td>\n",
       "      <td>Lisboa</td>\n",
       "      <td>Sao Domingos de Benfica</td>\n",
       "      <td>3412</td>\n",
       "      <td>995000</td>\n",
       "    </tr>\n",
       "    <tr>\n",
       "      <th>4</th>\n",
       "      <td>105</td>\n",
       "      <td>Used</td>\n",
       "      <td>Homes</td>\n",
       "      <td>Apartment</td>\n",
       "      <td>7</td>\n",
       "      <td>1</td>\n",
       "      <td>150</td>\n",
       "      <td>300</td>\n",
       "      <td>0</td>\n",
       "      <td>38.7323</td>\n",
       "      <td>-9.1287</td>\n",
       "      <td>Portugal</td>\n",
       "      <td>Lisboa</td>\n",
       "      <td>Lisboa</td>\n",
       "      <td>Arroios</td>\n",
       "      <td>3277</td>\n",
       "      <td>570000</td>\n",
       "    </tr>\n",
       "  </tbody>\n",
       "</table>\n",
       "</div>"
      ],
      "text/plain": [
       "    Id Condition PropertyType PropertySubType  Bedrooms  Bathrooms  AreaNet  \\\n",
       "0  101      Used        Homes       Apartment         3          1       76   \n",
       "1  102      Used        Homes          Duplex         5          3      190   \n",
       "2  103      Used        Homes       Apartment         1          1       26   \n",
       "3  104      Used        Homes       Apartment         5          4      185   \n",
       "4  105      Used        Homes       Apartment         7          1      150   \n",
       "\n",
       "   AreaGross  Parking  Latitude  Longitude   Country District Municipality  \\\n",
       "0        152        0   38.7792    -9.1186  Portugal   Lisboa       Lisboa   \n",
       "1        380        0   38.7056    -9.1784  Portugal   Lisboa       Lisboa   \n",
       "2         52        0   38.7058    -9.1639  Portugal   Lisboa       Lisboa   \n",
       "3        370        0   38.7466    -9.1640  Portugal   Lisboa       Lisboa   \n",
       "4        300        0   38.7323    -9.1287  Portugal   Lisboa       Lisboa   \n",
       "\n",
       "                    Parish  Price M2    Price  \n",
       "0                  Olivais      2463   198000  \n",
       "1                Alcantara      3125  1270000  \n",
       "2                  Estrela      4005   140000  \n",
       "3  Sao Domingos de Benfica      3412   995000  \n",
       "4                  Arroios      3277   570000  "
      ]
     },
     "execution_count": 547,
     "metadata": {},
     "output_type": "execute_result"
    }
   ],
   "source": [
    "# Import the file with pandas\n",
    "df = pd.read_csv('lisbon-houses.csv.xls') \n",
    "\n",
    "# print the first lines\n",
    "df.head(5)\n"
   ]
  },
  {
   "cell_type": "code",
   "execution_count": 548,
   "metadata": {},
   "outputs": [],
   "source": [
    "df = df.drop(['Country', 'District','Municipality'], axis=1)\n",
    "df = df.drop(['Id'], axis=1)"
   ]
  },
  {
   "cell_type": "code",
   "execution_count": 549,
   "metadata": {},
   "outputs": [
    {
     "data": {
      "text/plain": [
       "<seaborn.axisgrid.FacetGrid at 0x7fb5c4dbc670>"
      ]
     },
     "execution_count": 549,
     "metadata": {},
     "output_type": "execute_result"
    },
    {
     "data": {
      "image/png": "[encoded data removed]",
      "text/plain": [
       "<Figure size 360x360 with 1 Axes>"
      ]
     },
     "metadata": {
      "needs_background": "light"
     },
     "output_type": "display_data"
    }
   ],
   "source": [
    "sn.catplot(x='PropertyType', y='Price',  data=df,jitter='0.25')"
   ]
  },
  {
   "cell_type": "code",
   "execution_count": 550,
   "metadata": {},
   "outputs": [
    {
     "data": {
      "text/plain": [
       "<seaborn.axisgrid.FacetGrid at 0x7fb5c628f760>"
      ]
     },
     "execution_count": 550,
     "metadata": {},
     "output_type": "execute_result"
    },
    {
     "data": {
      "image/png": "[encoded data removed]",
      "text/plain": [
       "<Figure size 360x360 with 1 Axes>"
      ]
     },
     "metadata": {
      "needs_background": "light"
     },
     "output_type": "display_data"
    }
   ],
   "source": [
    "sn.catplot(x='PropertySubType', y='Price',  data=df,jitter='0.25')"
   ]
  },
  {
   "cell_type": "code",
   "execution_count": 551,
   "metadata": {},
   "outputs": [
    {
     "data": {
      "text/plain": [
       "(246, 13)"
      ]
     },
     "execution_count": 551,
     "metadata": {},
     "output_type": "execute_result"
    }
   ],
   "source": [
    "df.shape"
   ]
  },
  {
   "cell_type": "code",
   "execution_count": 552,
   "metadata": {},
   "outputs": [],
   "source": [
    "df = df[df.PropertyType == 'Homes']\n",
    "df = df.drop(['PropertyType'], axis=1)\n",
    "\n",
    "df = df[df.PropertySubType == 'Apartment']\n",
    "df = df.drop(['PropertySubType'], axis=1)"
   ]
  },
  {
   "cell_type": "code",
   "execution_count": 553,
   "metadata": {},
   "outputs": [
    {
     "data": {
      "text/plain": [
       "<seaborn.axisgrid.FacetGrid at 0x7fb5c884f4f0>"
      ]
     },
     "execution_count": 553,
     "metadata": {},
     "output_type": "execute_result"
    },
    {
     "data": {
      "image/png": "[encoded data removed]",
      "text/plain": [
       "<Figure size 360x360 with 1 Axes>"
      ]
     },
     "metadata": {
      "needs_background": "light"
     },
     "output_type": "display_data"
    },
    {
     "data": {
      "image/png": "[encoded data removed]",
      "text/plain": [
       "<Figure size 360x360 with 1 Axes>"
      ]
     },
     "metadata": {
      "needs_background": "light"
     },
     "output_type": "display_data"
    }
   ],
   "source": [
    "sn.catplot(x='Longitude', y='Price',  data=df,jitter='0.25')\n",
    "sn.catplot(x='Latitude', y='Price',  data=df,jitter='0.25')"
   ]
  },
  {
   "cell_type": "code",
   "execution_count": 554,
   "metadata": {},
   "outputs": [],
   "source": [
    "df = df.drop(['Longitude', 'Latitude'], axis=1)"
   ]
  },
  {
   "cell_type": "code",
   "execution_count": 555,
   "metadata": {},
   "outputs": [
    {
     "data": {
      "text/plain": [
       "<seaborn.axisgrid.FacetGrid at 0x7fb5c9815af0>"
      ]
     },
     "execution_count": 555,
     "metadata": {},
     "output_type": "execute_result"
    },
    {
     "data": {
      "image/png": "[encoded data removed]",
      "text/plain": [
       "<Figure size 360x360 with 1 Axes>"
      ]
     },
     "metadata": {
      "needs_background": "light"
     },
     "output_type": "display_data"
    }
   ],
   "source": [
    "sn.catplot(x='Parking', y='Price',  data=df,jitter='0.25')"
   ]
  },
  {
   "cell_type": "code",
   "execution_count": 556,
   "metadata": {},
   "outputs": [],
   "source": [
    "df['WithParking'] = np.where(df['Parking'] == '0', '0', '1')\n",
    "df = df.drop(['Parking'], axis=1)"
   ]
  },
  {
   "cell_type": "code",
   "execution_count": 557,
   "metadata": {},
   "outputs": [
    {
     "data": {
      "text/plain": [
       "(226, 9)"
      ]
     },
     "execution_count": 557,
     "metadata": {},
     "output_type": "execute_result"
    }
   ],
   "source": [
    "df.shape"
   ]
  },
  {
   "cell_type": "code",
   "execution_count": 558,
   "metadata": {},
   "outputs": [],
   "source": [
    "le=LabelEncoder()\n",
    "df['Condition'] = le.fit_transform(df['Condition'])\n",
    "df['Parish'] = le.fit_transform(df['Parish'])\n"
   ]
  },
  {
   "cell_type": "code",
   "execution_count": 559,
   "metadata": {},
   "outputs": [
    {
     "data": {
      "text/html": [
       "<div>\n",
       "<style scoped>\n",
       "    .dataframe tbody tr th:only-of-type {\n",
       "        vertical-align: middle;\n",
       "    }\n",
       "\n",
       "    .dataframe tbody tr th {\n",
       "        vertical-align: top;\n",
       "    }\n",
       "\n",
       "    .dataframe thead th {\n",
       "        text-align: right;\n",
       "    }\n",
       "</style>\n",
       "<table border=\"1\" class=\"dataframe\">\n",
       "  <thead>\n",
       "    <tr style=\"text-align: right;\">\n",
       "      <th></th>\n",
       "      <th>Condition</th>\n",
       "      <th>Bedrooms</th>\n",
       "      <th>Bathrooms</th>\n",
       "      <th>AreaNet</th>\n",
       "      <th>AreaGross</th>\n",
       "      <th>Parish</th>\n",
       "      <th>Price M2</th>\n",
       "      <th>Price</th>\n",
       "      <th>WithParking</th>\n",
       "    </tr>\n",
       "  </thead>\n",
       "  <tbody>\n",
       "    <tr>\n",
       "      <th>0</th>\n",
       "      <td>3</td>\n",
       "      <td>3</td>\n",
       "      <td>1</td>\n",
       "      <td>76</td>\n",
       "      <td>152</td>\n",
       "      <td>16</td>\n",
       "      <td>2463</td>\n",
       "      <td>198000</td>\n",
       "      <td>1</td>\n",
       "    </tr>\n",
       "    <tr>\n",
       "      <th>2</th>\n",
       "      <td>3</td>\n",
       "      <td>1</td>\n",
       "      <td>1</td>\n",
       "      <td>26</td>\n",
       "      <td>52</td>\n",
       "      <td>12</td>\n",
       "      <td>4005</td>\n",
       "      <td>140000</td>\n",
       "      <td>1</td>\n",
       "    </tr>\n",
       "    <tr>\n",
       "      <th>3</th>\n",
       "      <td>3</td>\n",
       "      <td>5</td>\n",
       "      <td>4</td>\n",
       "      <td>185</td>\n",
       "      <td>370</td>\n",
       "      <td>22</td>\n",
       "      <td>3412</td>\n",
       "      <td>995000</td>\n",
       "      <td>1</td>\n",
       "    </tr>\n",
       "    <tr>\n",
       "      <th>4</th>\n",
       "      <td>3</td>\n",
       "      <td>7</td>\n",
       "      <td>1</td>\n",
       "      <td>150</td>\n",
       "      <td>300</td>\n",
       "      <td>4</td>\n",
       "      <td>3277</td>\n",
       "      <td>570000</td>\n",
       "      <td>1</td>\n",
       "    </tr>\n",
       "    <tr>\n",
       "      <th>5</th>\n",
       "      <td>3</td>\n",
       "      <td>3</td>\n",
       "      <td>2</td>\n",
       "      <td>95</td>\n",
       "      <td>190</td>\n",
       "      <td>7</td>\n",
       "      <td>3542</td>\n",
       "      <td>425000</td>\n",
       "      <td>1</td>\n",
       "    </tr>\n",
       "  </tbody>\n",
       "</table>\n",
       "</div>"
      ],
      "text/plain": [
       "   Condition  Bedrooms  Bathrooms  AreaNet  AreaGross  Parish  Price M2  \\\n",
       "0          3         3          1       76        152      16      2463   \n",
       "2          3         1          1       26         52      12      4005   \n",
       "3          3         5          4      185        370      22      3412   \n",
       "4          3         7          1      150        300       4      3277   \n",
       "5          3         3          2       95        190       7      3542   \n",
       "\n",
       "    Price WithParking  \n",
       "0  198000           1  \n",
       "2  140000           1  \n",
       "3  995000           1  \n",
       "4  570000           1  \n",
       "5  425000           1  "
      ]
     },
     "execution_count": 559,
     "metadata": {},
     "output_type": "execute_result"
    }
   ],
   "source": [
    "df.head()"
   ]
  },
  {
   "cell_type": "code",
   "execution_count": 560,
   "metadata": {},
   "outputs": [],
   "source": [
    "X_train, X_test = train_test_split(df, test_size=0.1,random_state=155)\n"
   ]
  },
  {
   "cell_type": "code",
   "execution_count": 561,
   "metadata": {},
   "outputs": [],
   "source": [
    "X_train_scaled = X_train.copy()\n",
    "X_test_scaled = X_test.copy()"
   ]
  },
  {
   "cell_type": "code",
   "execution_count": 562,
   "metadata": {},
   "outputs": [
    {
     "data": {
      "text/html": [
       "<div>\n",
       "<style scoped>\n",
       "    .dataframe tbody tr th:only-of-type {\n",
       "        vertical-align: middle;\n",
       "    }\n",
       "\n",
       "    .dataframe tbody tr th {\n",
       "        vertical-align: top;\n",
       "    }\n",
       "\n",
       "    .dataframe thead th {\n",
       "        text-align: right;\n",
       "    }\n",
       "</style>\n",
       "<table border=\"1\" class=\"dataframe\">\n",
       "  <thead>\n",
       "    <tr style=\"text-align: right;\">\n",
       "      <th></th>\n",
       "      <th>Condition</th>\n",
       "      <th>Bedrooms</th>\n",
       "      <th>Bathrooms</th>\n",
       "      <th>AreaNet</th>\n",
       "      <th>AreaGross</th>\n",
       "      <th>Parish</th>\n",
       "      <th>Price M2</th>\n",
       "      <th>Price</th>\n",
       "      <th>WithParking</th>\n",
       "    </tr>\n",
       "  </thead>\n",
       "  <tbody>\n",
       "    <tr>\n",
       "      <th>36</th>\n",
       "      <td>3</td>\n",
       "      <td>2</td>\n",
       "      <td>1</td>\n",
       "      <td>64</td>\n",
       "      <td>128</td>\n",
       "      <td>15</td>\n",
       "      <td>5112</td>\n",
       "      <td>190000</td>\n",
       "      <td>1</td>\n",
       "    </tr>\n",
       "    <tr>\n",
       "      <th>173</th>\n",
       "      <td>0</td>\n",
       "      <td>3</td>\n",
       "      <td>2</td>\n",
       "      <td>102</td>\n",
       "      <td>204</td>\n",
       "      <td>15</td>\n",
       "      <td>5112</td>\n",
       "      <td>525000</td>\n",
       "      <td>1</td>\n",
       "    </tr>\n",
       "    <tr>\n",
       "      <th>142</th>\n",
       "      <td>2</td>\n",
       "      <td>2</td>\n",
       "      <td>3</td>\n",
       "      <td>74</td>\n",
       "      <td>148</td>\n",
       "      <td>12</td>\n",
       "      <td>4005</td>\n",
       "      <td>490000</td>\n",
       "      <td>1</td>\n",
       "    </tr>\n",
       "    <tr>\n",
       "      <th>107</th>\n",
       "      <td>2</td>\n",
       "      <td>1</td>\n",
       "      <td>1</td>\n",
       "      <td>76</td>\n",
       "      <td>152</td>\n",
       "      <td>14</td>\n",
       "      <td>2881</td>\n",
       "      <td>515000</td>\n",
       "      <td>1</td>\n",
       "    </tr>\n",
       "    <tr>\n",
       "      <th>8</th>\n",
       "      <td>3</td>\n",
       "      <td>2</td>\n",
       "      <td>1</td>\n",
       "      <td>58</td>\n",
       "      <td>116</td>\n",
       "      <td>16</td>\n",
       "      <td>2463</td>\n",
       "      <td>196000</td>\n",
       "      <td>1</td>\n",
       "    </tr>\n",
       "  </tbody>\n",
       "</table>\n",
       "</div>"
      ],
      "text/plain": [
       "     Condition  Bedrooms  Bathrooms  AreaNet  AreaGross  Parish  Price M2  \\\n",
       "36           3         2          1       64        128      15      5112   \n",
       "173          0         3          2      102        204      15      5112   \n",
       "142          2         2          3       74        148      12      4005   \n",
       "107          2         1          1       76        152      14      2881   \n",
       "8            3         2          1       58        116      16      2463   \n",
       "\n",
       "      Price WithParking  \n",
       "36   190000           1  \n",
       "173  525000           1  \n",
       "142  490000           1  \n",
       "107  515000           1  \n",
       "8    196000           1  "
      ]
     },
     "execution_count": 562,
     "metadata": {},
     "output_type": "execute_result"
    }
   ],
   "source": [
    "X_test_scaled.head()"
   ]
  },
  {
   "cell_type": "code",
   "execution_count": 563,
   "metadata": {},
   "outputs": [],
   "source": [
    "y_train = X_train_scaled[\"Price\"].values\n",
    "X_train_scaled = X_train_scaled.drop(\"Price\", axis=1).values\n",
    "\n",
    "y_test = X_test_scaled[\"Price\"].values\n",
    "X_test_scaled = X_test_scaled.drop(\"Price\", axis=1).values"
   ]
  },
  {
   "cell_type": "markdown",
   "metadata": {},
   "source": [
    "# #MODELS"
   ]
  },
  {
   "cell_type": "markdown",
   "metadata": {},
   "source": [
    "Linear Regression"
   ]
  },
  {
   "cell_type": "code",
   "execution_count": 564,
   "metadata": {},
   "outputs": [
    {
     "name": "stdout",
     "output_type": "stream",
     "text": [
      "   Actual      Predicted\n",
      "0  190000  407572.371367\n",
      "1  525000  612704.302587\n",
      "2  490000  569272.696176\n",
      "3  515000  349282.125273\n",
      "4  196000  145085.849092\n",
      "5  149500  215671.207216\n",
      "6  199900  232396.323305\n",
      "7  799000  817349.439906\n",
      "8  245000  340649.713741\n",
      "9  270000  202855.428432\n",
      "R2- SCORE: 0.8005476905527744\n",
      "Loss: 0.3533993101256391\n"
     ]
    }
   ],
   "source": [
    "model_lr = LinearRegression()\n",
    "model_lr.fit(X_train_scaled,y_train)\n",
    "y_p=model_lr.predict(X_test_scaled)\n",
    "\n",
    "df2 = pd.DataFrame({'Actual': y_test, 'Predicted': y_p})\n",
    "print(df2.head(10))\n",
    "\n",
    "print('R2- SCORE:', metrics.r2_score(y_test,y_p))\n",
    "print('Loss:', metrics.mean_absolute_percentage_error(y_test,y_p))"
   ]
  },
  {
   "cell_type": "markdown",
   "metadata": {},
   "source": [
    "Lasso"
   ]
  },
  {
   "cell_type": "code",
   "execution_count": 565,
   "metadata": {},
   "outputs": [
    {
     "name": "stdout",
     "output_type": "stream",
     "text": [
      "   Actual      Predicted\n",
      "0  190000  407572.371321\n",
      "1  525000  612704.302838\n",
      "2  490000  569272.695637\n",
      "3  515000  349282.125151\n",
      "4  196000  145085.849029\n",
      "5  149500  215671.207197\n",
      "6  199900  232396.323419\n",
      "7  799000  817349.439966\n",
      "8  245000  340649.714163\n",
      "9  270000  202855.428311\n",
      "R2- SCORE: 0.8005476904755124\n",
      "MAPE: 0.35339931029656035\n"
     ]
    }
   ],
   "source": [
    "model_lasso = Lasso(alpha = 0.0001,tol=0.0001,fit_intercept=True, max_iter=100000)\n",
    "model_lasso.fit(X_train_scaled,y_train)\n",
    "y_pred = model_lasso.predict(X_test_scaled)\n",
    "\n",
    "\n",
    "df2 = pd.DataFrame({'Actual': y_test, 'Predicted': y_pred})\n",
    "print(df2.head(10))\n",
    "\n",
    "from sklearn import metrics\n",
    "print('R2- SCORE:', metrics.r2_score(y_test,y_pred))\n",
    "print('MAPE:', metrics.mean_absolute_percentage_error(y_test,y_pred))"
   ]
  },
  {
   "cell_type": "markdown",
   "metadata": {},
   "source": [
    "Ridge"
   ]
  },
  {
   "cell_type": "code",
   "execution_count": 566,
   "metadata": {},
   "outputs": [
    {
     "name": "stdout",
     "output_type": "stream",
     "text": [
      "   Actual      Predicted\n",
      "0  190000  407572.371367\n",
      "1  525000  612704.302587\n",
      "2  490000  569272.696176\n",
      "3  515000  349282.125273\n",
      "4  196000  145085.849092\n",
      "5  149500  215671.207216\n",
      "6  199900  232396.323305\n",
      "7  799000  817349.439906\n",
      "8  245000  340649.713741\n",
      "9  270000  202855.428432\n",
      "R2- SCORE: 0.8005476905527744\n",
      "MAPE: 0.47081581286426255\n"
     ]
    }
   ],
   "source": [
    "model_ridge = Ridge(alpha = 0.0001, normalize = False,fit_intercept=False, tol = 0.001, \\\n",
    "              solver ='sag', random_state = 123)\n",
    "\n",
    "model_ridge.fit(X_train_scaled, y_train)\n",
    "y_pred=model_ridge.predict(X_test_scaled)\n",
    "\n",
    "\n",
    "df2 = pd.DataFrame({'Actual': y_test, 'Predicted': y_p})\n",
    "print(df2.head(10))\n",
    "\n",
    "from sklearn import metrics\n",
    "print('R2- SCORE:', metrics.r2_score(y_test,y_p))\n",
    "print('MAPE:', metrics.mean_absolute_percentage_error(y_test,y_pred))"
   ]
  }
 ],
 "metadata": {
  "interpreter": {
   "hash": "f6461d2c0c7131347eae1119111d6398ee1336848c44a91acfc75f242314b929"
  },
  "kernelspec": {
   "display_name": "Python 3.8.8 ('base')",
   "language": "python",
   "name": "python3"
  },
  "language_info": {
   "codemirror_mode": {
    "name": "ipython",
    "version": 3
   },
   "file_extension": ".py",
   "mimetype": "text/x-python",
   "name": "python",
   "nbconvert_exporter": "python",
   "pygments_lexer": "ipython3",
   "version": "3.8.8"
  },
  "orig_nbformat": 4
 },
 "nbformat": 4,
 "nbformat_minor": 2
}
